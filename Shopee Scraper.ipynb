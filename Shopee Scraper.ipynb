{
 "cells": [
  {
   "cell_type": "code",
   "execution_count": 25,
   "id": "2db3fd9c",
   "metadata": {},
   "outputs": [],
   "source": [
    "from bs4 import BeautifulSoup\n",
    "from selenium import webdriver\n",
    "from selenium.webdriver.chrome.options import Options\n",
    "from selenium.webdriver.support.ui import WebDriverWait\n",
    "from selenium.common.exceptions import TimeoutException\n",
    "from selenium.webdriver.common.keys import Keys\n",
    "from time import sleep\n",
    "\n",
    "from tqdm.notebook import trange, tqdm\n",
    "import pandas as pd"
   ]
  },
  {
   "cell_type": "code",
   "execution_count": 2,
   "id": "63c948b6",
   "metadata": {},
   "outputs": [],
   "source": [
    "search_string = \"amazfit t-rex pro\""
   ]
  },
  {
   "cell_type": "code",
   "execution_count": 3,
   "id": "927c1a17",
   "metadata": {},
   "outputs": [
    {
     "data": {
      "text/plain": [
       "'amazfit%20t-rex%20pro'"
      ]
     },
     "execution_count": 3,
     "metadata": {},
     "output_type": "execute_result"
    }
   ],
   "source": [
    "search_string = search_string.replace(\" \", \"%20\")\n",
    "search_string"
   ]
  },
  {
   "cell_type": "code",
   "execution_count": 8,
   "id": "968da44e",
   "metadata": {},
   "outputs": [],
   "source": [
    "# create object for chrome options\n",
    "chrome_options = Options()\n",
    "# base_url = 'https://shopee.com.my/shop/13377506/search?page=0&sortBy=sales'\n",
    "base_url = 'https://shopee.com.my/search?keyword='+search_string\n",
    "\n",
    "# set chrome driver options to disable any popup's from the website\n",
    "# to find local path for chrome profile, open chrome browser\n",
    "# and in the address bar type, \"chrome://version\"\n",
    "chrome_options.add_argument('disable-notifications')\n",
    "chrome_options.add_argument('--disable-infobars')\n",
    "chrome_options.add_argument('start-maximized')\n",
    "chrome_options.add_argument('user-data-dir=C:\\\\Users\\\\jimmy\\\\AppData\\\\Local\\\\Google\\\\Chrome\\\\User Data\\\\Default')\n",
    "# To disable the message, \"Chrome is being controlled by automated test software\"\n",
    "chrome_options.add_argument(\"disable-infobars\")\n",
    "# Pass the argument 1 to allow and 2 to block\n",
    "chrome_options.add_experimental_option(\"prefs\", { \n",
    "    \"profile.default_content_setting_values.notifications\": 2\n",
    "    })\n"
   ]
  },
  {
   "cell_type": "code",
   "execution_count": 10,
   "id": "22e9ea6c",
   "metadata": {},
   "outputs": [],
   "source": [
    "# invoke the webdriver\n",
    "browser = webdriver.Chrome(executable_path = '../chromedriver.exe',\n",
    "                          options = chrome_options)\n",
    "browser.get(base_url)\n",
    "delay = 5 #secods"
   ]
  },
  {
   "cell_type": "code",
   "execution_count": 11,
   "id": "f3229298",
   "metadata": {},
   "outputs": [],
   "source": [
    "def extract_element(item, class_name):\n",
    "    value = ''\n",
    "    try:\n",
    "        value = item.find_element_by_class_name(class_name).text\n",
    "    except:\n",
    "        value = 'N/A'        \n",
    "    \n",
    "    return value\n",
    "    "
   ]
  },
  {
   "cell_type": "code",
   "execution_count": 29,
   "id": "853f7449",
   "metadata": {},
   "outputs": [
    {
     "data": {
      "application/vnd.jupyter.widget-view+json": {
       "model_id": "a9947fac1616416fb8d4c8d872c09c1a",
       "version_major": 2,
       "version_minor": 0
      },
      "text/plain": [
       "  0%|          | 0/50 [00:00<?, ?it/s]"
      ]
     },
     "metadata": {},
     "output_type": "display_data"
    },
    {
     "name": "stdout",
     "output_type": "stream",
     "text": [
      "Page  1\n"
     ]
    },
    {
     "data": {
      "application/vnd.jupyter.widget-view+json": {
       "model_id": "b7592bb5050545c683f543527ee036d2",
       "version_major": 2,
       "version_minor": 0
      },
      "text/plain": [
       "  0%|          | 0/50 [00:00<?, ?it/s]"
      ]
     },
     "metadata": {},
     "output_type": "display_data"
    },
    {
     "name": "stdout",
     "output_type": "stream",
     "text": [
      "Page  2\n"
     ]
    },
    {
     "data": {
      "application/vnd.jupyter.widget-view+json": {
       "model_id": "7b2a9bf2fb874c5cb16dd00e9d1ec06a",
       "version_major": 2,
       "version_minor": 0
      },
      "text/plain": [
       "  0%|          | 0/50 [00:00<?, ?it/s]"
      ]
     },
     "metadata": {},
     "output_type": "display_data"
    },
    {
     "name": "stdout",
     "output_type": "stream",
     "text": [
      "Page  3\n"
     ]
    },
    {
     "data": {
      "application/vnd.jupyter.widget-view+json": {
       "model_id": "38720eaafe064493ae294bd8d816d1a7",
       "version_major": 2,
       "version_minor": 0
      },
      "text/plain": [
       "  0%|          | 0/50 [00:00<?, ?it/s]"
      ]
     },
     "metadata": {},
     "output_type": "display_data"
    },
    {
     "name": "stdout",
     "output_type": "stream",
     "text": [
      "Page  4\n"
     ]
    },
    {
     "data": {
      "application/vnd.jupyter.widget-view+json": {
       "model_id": "c7b2675107d24f0ca3f484c6acefdcf4",
       "version_major": 2,
       "version_minor": 0
      },
      "text/plain": [
       "  0%|          | 0/50 [00:00<?, ?it/s]"
      ]
     },
     "metadata": {},
     "output_type": "display_data"
    },
    {
     "name": "stdout",
     "output_type": "stream",
     "text": [
      "Page  5\n"
     ]
    }
   ],
   "source": [
    "# invoke the webdriver\n",
    "browser = webdriver.Chrome(executable_path = '../chromedriver.exe',\n",
    "                          options = chrome_options)\n",
    "browser.get(base_url)\n",
    "delay = 5 #secods\n",
    "\n",
    "sleep(10)\n",
    "\n",
    "max_page = 5\n",
    "current_page = 1\n",
    "\n",
    "item_list = pd.DataFrame(columns=['name', 'promo_tag', 'initial_price', \n",
    "                                  'current_price', 'rating', 'sales_rate', \n",
    "                                  'ship_from', 'link'])\n",
    "while current_page <= max_page:\n",
    "    \n",
    "    body =  browser.find_element_by_css_selector('.nt-s.nl-l')\n",
    "    \n",
    "    for j in range(0,5):\n",
    "        body.send_keys(Keys.PAGE_DOWN)\n",
    "        sleep(1)\n",
    "        j +=1\n",
    "    \n",
    "    items =  browser.find_elements_by_class_name('shopee-search-item-result__item')\n",
    "        \n",
    "#     idx = 0\n",
    "    \n",
    "    pbar = tqdm(total=len(items))\n",
    "    print(\"Page \", current_page)\n",
    "    for item in items:\n",
    "        \n",
    "        pbar.update(1)\n",
    "#         print(idx)\n",
    "        temp = pd.DataFrame(columns=['name', 'promo_tag', 'initial_price', \n",
    "                                      'current_price', 'rating', 'sales_rate', \n",
    "                                      'ship_from', 'link'])\n",
    "        stage = 0\n",
    "        try:     \n",
    "            item_name = extract_element(item, 'PFM7lj')        \n",
    "            stage = 1\n",
    "\n",
    "            item_promo_tag = extract_element(item, '_2NfTth').split('\\n')    \n",
    "            stage = 2\n",
    "\n",
    "            item_initial_price = extract_element(item, '_3_-SiN')    \n",
    "            stage = 3\n",
    "\n",
    "            item_promo_price = extract_element(item, '_5W0f35')\n",
    "            stage = 4\n",
    "\n",
    "            star = 0\n",
    "            rating = item.find_element_by_class_name('_3dC36C')\n",
    "            for i in rating.find_elements_by_class_name('shopee-rating-stars__lit'):\n",
    "                star = star +float(i.get_attribute('style').strip(' ').split(':')[1][:-2])\n",
    "            item_rating = star/100        \n",
    "            stage = 5\n",
    "\n",
    "            item_sales = extract_element(item, 'go5yPW')        \n",
    "            stage = 6\n",
    "\n",
    "            item_ship_from = extract_element(item, '_2CWevj')\n",
    "            stage = 7\n",
    "\n",
    "            item_link = item.find_element_by_tag_name('a').get_attribute('href')\n",
    "\n",
    "            temp = pd.DataFrame([[item_name, item_promo_tag, item_initial_price, item_promo_price, item_rating, \n",
    "    item_sales, item_ship_from, item_link]], columns=['name', 'promo_tag', 'initial_price', \n",
    "                                      'current_price', 'rating', 'sales_rate', \n",
    "                                      'ship_from', 'link'])\n",
    "        except:\n",
    "            print('problem')\n",
    "            print(stage)\n",
    "            break;\n",
    "\n",
    "        item_list = item_list.append(temp)\n",
    "#         idx += 1\n",
    "    \n",
    "    pbar.close()\n",
    "#     browser.execute_script(\"window.scrollTo(0, document.body.scrollHeight);\")\n",
    "    sleep(3)\n",
    "    btn = browser.find_element_by_css_selector('.shopee-icon-button.shopee-icon-button--right')\n",
    "    btn.click()\n",
    "    current_page += 1\n",
    "    sleep(delay)\n",
    "\n",
    "browser.close()"
   ]
  },
  {
   "cell_type": "code",
   "execution_count": 30,
   "id": "d3e67d8a",
   "metadata": {},
   "outputs": [
    {
     "data": {
      "text/html": [
       "<div>\n",
       "<style scoped>\n",
       "    .dataframe tbody tr th:only-of-type {\n",
       "        vertical-align: middle;\n",
       "    }\n",
       "\n",
       "    .dataframe tbody tr th {\n",
       "        vertical-align: top;\n",
       "    }\n",
       "\n",
       "    .dataframe thead th {\n",
       "        text-align: right;\n",
       "    }\n",
       "</style>\n",
       "<table border=\"1\" class=\"dataframe\">\n",
       "  <thead>\n",
       "    <tr style=\"text-align: right;\">\n",
       "      <th></th>\n",
       "      <th>name</th>\n",
       "      <th>promo_tag</th>\n",
       "      <th>initial_price</th>\n",
       "      <th>current_price</th>\n",
       "      <th>rating</th>\n",
       "      <th>sales_rate</th>\n",
       "      <th>ship_from</th>\n",
       "      <th>link</th>\n",
       "    </tr>\n",
       "  </thead>\n",
       "  <tbody>\n",
       "    <tr>\n",
       "      <th>0</th>\n",
       "      <td>∈✻(New)Amazfit T-Rex Pro Fitness Smartwatch-Gl...</td>\n",
       "      <td>[Local Seller]</td>\n",
       "      <td>RM1,993.00</td>\n",
       "      <td>RM996.50</td>\n",
       "      <td>0.0</td>\n",
       "      <td></td>\n",
       "      <td>Kuala Lumpur</td>\n",
       "      <td>https://shopee.com.my/%E2%88%88%E2%9C%BB(New)A...</td>\n",
       "    </tr>\n",
       "    <tr>\n",
       "      <th>0</th>\n",
       "      <td>(USE VOUCHER RM70 DISCOUNT) Amazfit T Rex Pro ...</td>\n",
       "      <td>[N/A]</td>\n",
       "      <td>N/A</td>\n",
       "      <td>RM969.50 - RM999.50</td>\n",
       "      <td>0.0</td>\n",
       "      <td></td>\n",
       "      <td>Selangor</td>\n",
       "      <td>https://shopee.com.my/(USE-VOUCHER-RM70-DISCOU...</td>\n",
       "    </tr>\n",
       "    <tr>\n",
       "      <th>0</th>\n",
       "      <td>fast charging~travel charger~ [ High Quality ]...</td>\n",
       "      <td>[RM1 off]</td>\n",
       "      <td>RM73.00</td>\n",
       "      <td>RM36.50</td>\n",
       "      <td>0.0</td>\n",
       "      <td></td>\n",
       "      <td>Selangor</td>\n",
       "      <td>https://shopee.com.my/fast-charging~travel-cha...</td>\n",
       "    </tr>\n",
       "    <tr>\n",
       "      <th>0</th>\n",
       "      <td>Amazfit T-Rex / T-Rex Pro Huami Smart watch 47...</td>\n",
       "      <td>[Local Seller]</td>\n",
       "      <td>N/A</td>\n",
       "      <td>RM833.10 - RM1,297.06</td>\n",
       "      <td>0.0</td>\n",
       "      <td></td>\n",
       "      <td>Kuala Lumpur</td>\n",
       "      <td>https://shopee.com.my/Amazfit-T-Rex-T-Rex-Pro-...</td>\n",
       "    </tr>\n",
       "    <tr>\n",
       "      <th>0</th>\n",
       "      <td>smart watch~smart watch women~ Amazfit T-Rex &amp;...</td>\n",
       "      <td>[RM1 off, Local Seller]</td>\n",
       "      <td>N/A</td>\n",
       "      <td>RM25.85 - RM30.25</td>\n",
       "      <td>0.0</td>\n",
       "      <td></td>\n",
       "      <td>Selangor</td>\n",
       "      <td>https://shopee.com.my/smart-watch~smart-watch-...</td>\n",
       "    </tr>\n",
       "  </tbody>\n",
       "</table>\n",
       "</div>"
      ],
      "text/plain": [
       "                                                name                promo_tag  \\\n",
       "0  ∈✻(New)Amazfit T-Rex Pro Fitness Smartwatch-Gl...           [Local Seller]   \n",
       "0  (USE VOUCHER RM70 DISCOUNT) Amazfit T Rex Pro ...                    [N/A]   \n",
       "0  fast charging~travel charger~ [ High Quality ]...                [RM1 off]   \n",
       "0  Amazfit T-Rex / T-Rex Pro Huami Smart watch 47...           [Local Seller]   \n",
       "0  smart watch~smart watch women~ Amazfit T-Rex &...  [RM1 off, Local Seller]   \n",
       "\n",
       "  initial_price          current_price  rating sales_rate     ship_from  \\\n",
       "0    RM1,993.00               RM996.50     0.0             Kuala Lumpur   \n",
       "0           N/A    RM969.50 - RM999.50     0.0                 Selangor   \n",
       "0       RM73.00                RM36.50     0.0                 Selangor   \n",
       "0           N/A  RM833.10 - RM1,297.06     0.0             Kuala Lumpur   \n",
       "0           N/A      RM25.85 - RM30.25     0.0                 Selangor   \n",
       "\n",
       "                                                link  \n",
       "0  https://shopee.com.my/%E2%88%88%E2%9C%BB(New)A...  \n",
       "0  https://shopee.com.my/(USE-VOUCHER-RM70-DISCOU...  \n",
       "0  https://shopee.com.my/fast-charging~travel-cha...  \n",
       "0  https://shopee.com.my/Amazfit-T-Rex-T-Rex-Pro-...  \n",
       "0  https://shopee.com.my/smart-watch~smart-watch-...  "
      ]
     },
     "execution_count": 30,
     "metadata": {},
     "output_type": "execute_result"
    }
   ],
   "source": [
    "item_list.tail()"
   ]
  },
  {
   "cell_type": "code",
   "execution_count": 31,
   "id": "b25746c9",
   "metadata": {},
   "outputs": [
    {
     "data": {
      "text/plain": [
       "250"
      ]
     },
     "execution_count": 31,
     "metadata": {},
     "output_type": "execute_result"
    }
   ],
   "source": [
    "len(item_list)"
   ]
  },
  {
   "cell_type": "code",
   "execution_count": 33,
   "id": "c6a60e35",
   "metadata": {},
   "outputs": [
    {
     "data": {
      "text/html": [
       "<div>\n",
       "<style scoped>\n",
       "    .dataframe tbody tr th:only-of-type {\n",
       "        vertical-align: middle;\n",
       "    }\n",
       "\n",
       "    .dataframe tbody tr th {\n",
       "        vertical-align: top;\n",
       "    }\n",
       "\n",
       "    .dataframe thead th {\n",
       "        text-align: right;\n",
       "    }\n",
       "</style>\n",
       "<table border=\"1\" class=\"dataframe\">\n",
       "  <thead>\n",
       "    <tr style=\"text-align: right;\">\n",
       "      <th></th>\n",
       "      <th>name</th>\n",
       "      <th>promo_tag</th>\n",
       "      <th>initial_price</th>\n",
       "      <th>current_price</th>\n",
       "      <th>rating</th>\n",
       "      <th>sales_rate</th>\n",
       "      <th>ship_from</th>\n",
       "      <th>link</th>\n",
       "    </tr>\n",
       "  </thead>\n",
       "  <tbody>\n",
       "    <tr>\n",
       "      <th>0</th>\n",
       "      <td>【PREMIUM】Amazfit T-Rex Pro 1.3 inch HD AMOLED ...</td>\n",
       "      <td>[RM30 off, Local Seller]</td>\n",
       "      <td>RM659.00</td>\n",
       "      <td>RM629.00</td>\n",
       "      <td>4.975172</td>\n",
       "      <td>955 sold</td>\n",
       "      <td>Selangor</td>\n",
       "      <td>https://shopee.com.my/%E3%80%90PREMIUM%E3%80%9...</td>\n",
       "    </tr>\n",
       "    <tr>\n",
       "      <th>0</th>\n",
       "      <td>Amazfit T-Rex / T-Rex Pro Huami Smart watch 47...</td>\n",
       "      <td>[Local Seller, COD]</td>\n",
       "      <td>N/A</td>\n",
       "      <td>RM409.00 - RM639.00</td>\n",
       "      <td>4.932016</td>\n",
       "      <td>1.8k sold</td>\n",
       "      <td>Selangor</td>\n",
       "      <td>https://shopee.com.my/Amazfit-T-Rex-T-Rex-Pro-...</td>\n",
       "    </tr>\n",
       "    <tr>\n",
       "      <th>0</th>\n",
       "      <td>Amazfit T-Rex Pro 1.3 inch HD AMOLED Screen / ...</td>\n",
       "      <td>[Local Seller, COD]</td>\n",
       "      <td>RM659.00</td>\n",
       "      <td>RM639.00</td>\n",
       "      <td>4.891566</td>\n",
       "      <td>105 sold</td>\n",
       "      <td>Selangor</td>\n",
       "      <td>https://shopee.com.my/Amazfit-T-Rex-Pro-1.3-in...</td>\n",
       "    </tr>\n",
       "    <tr>\n",
       "      <th>0</th>\n",
       "      <td>[MY] Huami Amazfit T-Rex Pro Smartwatch - Orig...</td>\n",
       "      <td>[RM10 off, Local Seller]</td>\n",
       "      <td>N/A</td>\n",
       "      <td>RM659.00</td>\n",
       "      <td>5.000000</td>\n",
       "      <td>3 sold</td>\n",
       "      <td>Selangor</td>\n",
       "      <td>https://shopee.com.my/-MY-Huami-Amazfit-T-Rex-...</td>\n",
       "    </tr>\n",
       "    <tr>\n",
       "      <th>0</th>\n",
       "      <td>#RAYAPROMO [OFFICIAL AMAZFIT MSIA] Amazfit T-R...</td>\n",
       "      <td>[RM1 off, Local Seller]</td>\n",
       "      <td>RM659.00</td>\n",
       "      <td>RM638.00</td>\n",
       "      <td>5.000000</td>\n",
       "      <td>6 sold</td>\n",
       "      <td>Kuala Lumpur</td>\n",
       "      <td>https://shopee.com.my/-RAYAPROMO-OFFICIAL-AMAZ...</td>\n",
       "    </tr>\n",
       "    <tr>\n",
       "      <th>...</th>\n",
       "      <td>...</td>\n",
       "      <td>...</td>\n",
       "      <td>...</td>\n",
       "      <td>...</td>\n",
       "      <td>...</td>\n",
       "      <td>...</td>\n",
       "      <td>...</td>\n",
       "      <td>...</td>\n",
       "    </tr>\n",
       "    <tr>\n",
       "      <th>0</th>\n",
       "      <td>∈✻(New)Amazfit T-Rex Pro Fitness Smartwatch-Gl...</td>\n",
       "      <td>[Local Seller]</td>\n",
       "      <td>RM1,993.00</td>\n",
       "      <td>RM996.50</td>\n",
       "      <td>0.000000</td>\n",
       "      <td></td>\n",
       "      <td>Kuala Lumpur</td>\n",
       "      <td>https://shopee.com.my/%E2%88%88%E2%9C%BB(New)A...</td>\n",
       "    </tr>\n",
       "    <tr>\n",
       "      <th>0</th>\n",
       "      <td>(USE VOUCHER RM70 DISCOUNT) Amazfit T Rex Pro ...</td>\n",
       "      <td>[N/A]</td>\n",
       "      <td>N/A</td>\n",
       "      <td>RM969.50 - RM999.50</td>\n",
       "      <td>0.000000</td>\n",
       "      <td></td>\n",
       "      <td>Selangor</td>\n",
       "      <td>https://shopee.com.my/(USE-VOUCHER-RM70-DISCOU...</td>\n",
       "    </tr>\n",
       "    <tr>\n",
       "      <th>0</th>\n",
       "      <td>fast charging~travel charger~ [ High Quality ]...</td>\n",
       "      <td>[RM1 off]</td>\n",
       "      <td>RM73.00</td>\n",
       "      <td>RM36.50</td>\n",
       "      <td>0.000000</td>\n",
       "      <td></td>\n",
       "      <td>Selangor</td>\n",
       "      <td>https://shopee.com.my/fast-charging~travel-cha...</td>\n",
       "    </tr>\n",
       "    <tr>\n",
       "      <th>0</th>\n",
       "      <td>Amazfit T-Rex / T-Rex Pro Huami Smart watch 47...</td>\n",
       "      <td>[Local Seller]</td>\n",
       "      <td>N/A</td>\n",
       "      <td>RM833.10 - RM1,297.06</td>\n",
       "      <td>0.000000</td>\n",
       "      <td></td>\n",
       "      <td>Kuala Lumpur</td>\n",
       "      <td>https://shopee.com.my/Amazfit-T-Rex-T-Rex-Pro-...</td>\n",
       "    </tr>\n",
       "    <tr>\n",
       "      <th>0</th>\n",
       "      <td>smart watch~smart watch women~ Amazfit T-Rex &amp;...</td>\n",
       "      <td>[RM1 off, Local Seller]</td>\n",
       "      <td>N/A</td>\n",
       "      <td>RM25.85 - RM30.25</td>\n",
       "      <td>0.000000</td>\n",
       "      <td></td>\n",
       "      <td>Selangor</td>\n",
       "      <td>https://shopee.com.my/smart-watch~smart-watch-...</td>\n",
       "    </tr>\n",
       "  </tbody>\n",
       "</table>\n",
       "<p>250 rows × 8 columns</p>\n",
       "</div>"
      ],
      "text/plain": [
       "                                                 name  \\\n",
       "0   【PREMIUM】Amazfit T-Rex Pro 1.3 inch HD AMOLED ...   \n",
       "0   Amazfit T-Rex / T-Rex Pro Huami Smart watch 47...   \n",
       "0   Amazfit T-Rex Pro 1.3 inch HD AMOLED Screen / ...   \n",
       "0   [MY] Huami Amazfit T-Rex Pro Smartwatch - Orig...   \n",
       "0   #RAYAPROMO [OFFICIAL AMAZFIT MSIA] Amazfit T-R...   \n",
       "..                                                ...   \n",
       "0   ∈✻(New)Amazfit T-Rex Pro Fitness Smartwatch-Gl...   \n",
       "0   (USE VOUCHER RM70 DISCOUNT) Amazfit T Rex Pro ...   \n",
       "0   fast charging~travel charger~ [ High Quality ]...   \n",
       "0   Amazfit T-Rex / T-Rex Pro Huami Smart watch 47...   \n",
       "0   smart watch~smart watch women~ Amazfit T-Rex &...   \n",
       "\n",
       "                   promo_tag initial_price          current_price    rating  \\\n",
       "0   [RM30 off, Local Seller]      RM659.00               RM629.00  4.975172   \n",
       "0        [Local Seller, COD]           N/A    RM409.00 - RM639.00  4.932016   \n",
       "0        [Local Seller, COD]      RM659.00               RM639.00  4.891566   \n",
       "0   [RM10 off, Local Seller]           N/A               RM659.00  5.000000   \n",
       "0    [RM1 off, Local Seller]      RM659.00               RM638.00  5.000000   \n",
       "..                       ...           ...                    ...       ...   \n",
       "0             [Local Seller]    RM1,993.00               RM996.50  0.000000   \n",
       "0                      [N/A]           N/A    RM969.50 - RM999.50  0.000000   \n",
       "0                  [RM1 off]       RM73.00                RM36.50  0.000000   \n",
       "0             [Local Seller]           N/A  RM833.10 - RM1,297.06  0.000000   \n",
       "0    [RM1 off, Local Seller]           N/A      RM25.85 - RM30.25  0.000000   \n",
       "\n",
       "   sales_rate     ship_from                                               link  \n",
       "0    955 sold      Selangor  https://shopee.com.my/%E3%80%90PREMIUM%E3%80%9...  \n",
       "0   1.8k sold      Selangor  https://shopee.com.my/Amazfit-T-Rex-T-Rex-Pro-...  \n",
       "0    105 sold      Selangor  https://shopee.com.my/Amazfit-T-Rex-Pro-1.3-in...  \n",
       "0      3 sold      Selangor  https://shopee.com.my/-MY-Huami-Amazfit-T-Rex-...  \n",
       "0      6 sold  Kuala Lumpur  https://shopee.com.my/-RAYAPROMO-OFFICIAL-AMAZ...  \n",
       "..        ...           ...                                                ...  \n",
       "0              Kuala Lumpur  https://shopee.com.my/%E2%88%88%E2%9C%BB(New)A...  \n",
       "0                  Selangor  https://shopee.com.my/(USE-VOUCHER-RM70-DISCOU...  \n",
       "0                  Selangor  https://shopee.com.my/fast-charging~travel-cha...  \n",
       "0              Kuala Lumpur  https://shopee.com.my/Amazfit-T-Rex-T-Rex-Pro-...  \n",
       "0                  Selangor  https://shopee.com.my/smart-watch~smart-watch-...  \n",
       "\n",
       "[250 rows x 8 columns]"
      ]
     },
     "execution_count": 33,
     "metadata": {},
     "output_type": "execute_result"
    }
   ],
   "source": [
    "item_list"
   ]
  },
  {
   "cell_type": "code",
   "execution_count": null,
   "id": "20de2afb",
   "metadata": {},
   "outputs": [],
   "source": []
  }
 ],
 "metadata": {
  "kernelspec": {
   "display_name": "Python 3",
   "language": "python",
   "name": "python3"
  },
  "language_info": {
   "codemirror_mode": {
    "name": "ipython",
    "version": 3
   },
   "file_extension": ".py",
   "mimetype": "text/x-python",
   "name": "python",
   "nbconvert_exporter": "python",
   "pygments_lexer": "ipython3",
   "version": "3.8.8"
  }
 },
 "nbformat": 4,
 "nbformat_minor": 5
}
