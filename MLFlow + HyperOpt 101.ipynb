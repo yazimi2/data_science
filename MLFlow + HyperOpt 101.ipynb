{
 "cells": [
  {
   "cell_type": "code",
   "execution_count": 2,
   "metadata": {},
   "outputs": [
    {
     "name": "stderr",
     "output_type": "stream",
     "text": [
      "Using TensorFlow backend.\n"
     ]
    }
   ],
   "source": [
    "#ML Flow Libraries\n",
    "import mlflow\n",
    "import mlflow.sklearn\n",
    "\n",
    "#DataScience Generic\n",
    "import pandas as pd\n",
    "import numpy as np\n",
    "import scipy as scp\n",
    "\n",
    "#HyperOpt Libraries\n",
    "from hyperopt import fmin, tpe, hp, SparkTrials, STATUS_OK, Trials, space_eval, rand\n",
    "from hyperopt.pyll.base import scope # needed to set HyperOpt Search Scope to be an Int.. but warning, the results from HyperOpt will still be a Float, so when using the Best Params, need to transform them there too\n",
    "\n",
    "#SciKit Learn Classifers\n",
    "from sklearn.ensemble import RandomForestClassifier #Load the Random Forest\n",
    "from sklearn import linear_model #Load the SGD Classifer\n",
    "from sklearn.linear_model import LogisticRegression\n",
    "from sklearn.svm import SVC\n",
    "from sklearn.naive_bayes import GaussianNB\n",
    "from sklearn.ensemble import AdaBoostClassifier\n",
    "from xgboost import XGBClassifier\n",
    "from sklearn.neural_network import MLPClassifier\n",
    "from sklearn.neighbors import KNeighborsClassifier\n",
    "\n",
    "#SciKit Learn Metrics\n",
    "from sklearn.metrics import accuracy_score, confusion_matrix, precision_recall_fscore_support, f1_score, recall_score, roc_auc_score, cohen_kappa_score #, balanced_accuracy_score\n",
    "from sklearn.utils.class_weight import compute_class_weight\n",
    "\n",
    "#SciKit Learn Data Prep for Train/Test\n",
    "from sklearn.model_selection import StratifiedKFold, train_test_split, cross_val_score, cross_validate\n",
    "from sklearn.feature_selection import SelectFromModel, chi2\n",
    "\n",
    "#SciKit Learn DAta Preprocessing\n",
    "from sklearn.preprocessing import MinMaxScaler, StandardScaler, MaxAbsScaler\n",
    "from sklearn.decomposition import PCA\n",
    "from sklearn.decomposition import TruncatedSVD\n",
    "#from sklearn import preprocessing\n",
    "\n",
    "#class Imbalance tools\n",
    "from imblearn.over_sampling import SMOTE\n",
    "from imblearn.under_sampling import TomekLinks\n",
    "from imblearn.combine import SMOTETomek\n",
    "\n",
    "\n",
    "from functools import reduce"
   ]
  },
  {
   "cell_type": "markdown",
   "metadata": {},
   "source": [
    "# Record Test using MLFlow\n",
    "get the current notebook directory to g"
   ]
  },
  {
   "cell_type": "code",
   "execution_count": 6,
   "metadata": {},
   "outputs": [
    {
     "name": "stdout",
     "output_type": "stream",
     "text": [
      " Volume in drive C is Windows\n",
      " Volume Serial Number is 2A86-F2DA\n",
      "\n",
      " Directory of C:\\Users\\u742292\\Python\\Git Content\n",
      "\n",
      "01/17/2020  07:38 PM    <DIR>          .\n",
      "01/17/2020  07:38 PM    <DIR>          ..\n",
      "01/17/2020  04:17 PM    <DIR>          .ipynb_checkpoints\n",
      "01/17/2020  04:44 PM    <DIR>          mlruns\n",
      "01/17/2020  04:44 PM             1,697 model.json\n",
      "01/17/2020  07:38 PM            13,965 Untitled.ipynb\n",
      "               2 File(s)         15,662 bytes\n",
      "               4 Dir(s)  277,090,004,992 bytes free\n"
     ]
    }
   ],
   "source": [
    "!dir"
   ]
  },
  {
   "cell_type": "markdown",
   "metadata": {},
   "source": [
    "## Uncomment if you want to create a new ML Flow Experiment"
   ]
  },
  {
   "cell_type": "code",
   "execution_count": 11,
   "metadata": {},
   "outputs": [
    {
     "name": "stdout",
     "output_type": "stream",
     "text": [
      "Current Experiment ID :  1\n"
     ]
    }
   ],
   "source": [
    "# \n",
    "\n",
    "# mlflow.set_tracking_uri(\"http://localhost:5000/\")\n",
    "# exp_id = mlflow.create_experiment(\"MLFlow Guide\", artifact_location=\"C:/Users/<UserName>/Python/Git Content\")\n",
    "print(\"Current Experiment ID : \", exp_id)"
   ]
  },
  {
   "cell_type": "code",
   "execution_count": 9,
   "metadata": {},
   "outputs": [],
   "source": [
    "from sklearn import datasets\n",
    "\n",
    "# import some data to play with\n",
    "iris = datasets.load_iris()\n",
    "\n",
    "# split the features and label\n",
    "X = iris.data[:, :2]  # we only take the first two features.\n",
    "Y = iris.target\n",
    "\n",
    "\n",
    "X_train, X_test, y_train, y_test = train_test_split(X, Y, test_size=0.20, random_state=42)\n",
    "\n",
    "clf = AdaBoostClassifier(random_state=42)\n",
    "\n",
    "# train\n",
    "with mlflow.start_run(experiment_id=exp_id, run_name=\"Test Run 1\", nested=True):      \n",
    "    \n",
    "    clf.fit(X_train, y_train) #Train the Model   \n",
    "    predictions = clf.predict(X_test) #Test the Model    \n",
    "    accuracy = accuracy_score(predictions, y_test)\n",
    "    \n",
    "    mlflow.set_tag(\"DataSet\", \"Iris\")\n",
    "    mlflow.log_metric(\"Accuracy\", accuracy)\n",
    "    "
   ]
  },
  {
   "cell_type": "code",
   "execution_count": 10,
   "metadata": {},
   "outputs": [
    {
     "name": "stdout",
     "output_type": "stream",
     "text": [
      "0.6333333333333333\n"
     ]
    }
   ],
   "source": [
    "print(accuracy)"
   ]
  },
  {
   "cell_type": "code",
   "execution_count": null,
   "metadata": {},
   "outputs": [],
   "source": []
  }
 ],
 "metadata": {
  "kernelspec": {
   "display_name": "Python 3",
   "language": "python",
   "name": "python3"
  },
  "language_info": {
   "codemirror_mode": {
    "name": "ipython",
    "version": 3
   },
   "file_extension": ".py",
   "mimetype": "text/x-python",
   "name": "python",
   "nbconvert_exporter": "python",
   "pygments_lexer": "ipython3",
   "version": "3.6.7"
  }
 },
 "nbformat": 4,
 "nbformat_minor": 2
}
